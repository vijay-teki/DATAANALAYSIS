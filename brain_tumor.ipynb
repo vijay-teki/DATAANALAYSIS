{
  "cells": [
    {
      "cell_type": "code",
      "execution_count": null,
      "metadata": {
        "id": "xxVMacJq1o4c"
      },
      "outputs": [],
      "source": [
        "import tensorflow as tf\n",
        "from tensorflow import keras\n",
        "from tensorflow.keras import layers\n",
        "from tensorflow.keras.preprocessing.image import ImageDataGenerator\n",
        "#image size and batch size\n",
        "IMG_SIZE=224\n",
        "BATCH_SIZE=32\n"
      ]
    },
    {
      "cell_type": "code",
      "execution_count": null,
      "metadata": {
        "colab": {
          "base_uri": "https://localhost:8080/"
        },
        "id": "KoFDrSuI26Rq",
        "outputId": "da280e9f-03f9-4415-ac20-3c427a85d861"
      },
      "outputs": [
        {
          "name": "stdout",
          "output_type": "stream",
          "text": [
            "Found 2408 images belonging to 2 classes.\n",
            "Found 602 images belonging to 2 classes.\n",
            "Found 60 images belonging to 1 classes.\n"
          ]
        }
      ],
      "source": [
        " #Define data generators for train, validation and test sets\n",
        " train_datagen = ImageDataGenerator(\n",
        "    rescale=1./255,\n",
        "    validation_split=0.2\n",
        ")\n",
        "\n",
        "train_generator = train_datagen.flow_from_directory(\n",
        "    '/content/drive/MyDrive/dataset/Brain_Tumor_Detection/train',\n",
        "    target_size=(IMG_SIZE, IMG_SIZE),\n",
        "    batch_size=BATCH_SIZE,\n",
        "    class_mode='binary',\n",
        "    subset='training'\n",
        ")\n",
        "\n",
        "val_generator = train_datagen.flow_from_directory(\n",
        "    '/content/drive/MyDrive/dataset/Brain_Tumor_Detection/train',\n",
        "    target_size=(IMG_SIZE, IMG_SIZE),\n",
        "    batch_size=BATCH_SIZE,\n",
        "    class_mode='binary',\n",
        "    subset='validation'\n",
        ")\n",
        "\n",
        "test_datagen = ImageDataGenerator(rescale=1./255)\n",
        "\n",
        "test_generator = test_datagen.flow_from_directory(\n",
        "    '/content/drive/MyDrive/dataset/Brain_Tumor_Detection/test',\n",
        "    target_size=(IMG_SIZE, IMG_SIZE),\n",
        "    batch_size=BATCH_SIZE,\n",
        "    class_mode='binary'\n",
        ")"
      ]
    },
    {
      "cell_type": "code",
      "execution_count": null,
      "metadata": {
        "id": "yJUf6bPv8hF4"
      },
      "outputs": [],
      "source": [
        "# Define the model\n",
        "model = keras.Sequential([\n",
        "    layers.Conv2D(32, (3, 3), activation='relu', input_shape=(IMG_SIZE, IMG_SIZE, 3)),\n",
        "    layers.MaxPooling2D((2, 2)),\n",
        "    layers.Conv2D(64, (3, 3), activation='relu'),\n",
        "    layers.MaxPooling2D((2, 2)),\n",
        "    layers.Conv2D(128, (3, 3), activation='relu'),\n",
        "    layers.MaxPooling2D((2, 2)),\n",
        "    layers.Flatten(),\n",
        "    layers.Dense(128, activation='relu'),\n",
        "    layers.Dense(1, activation='sigmoid')\n",
        "])"
      ]
    },
    {
      "cell_type": "code",
      "execution_count": null,
      "metadata": {
        "id": "Ddq2I4Mk8sz-"
      },
      "outputs": [],
      "source": [
        "# Compile the model\n",
        "model.compile(optimizer='adam', loss='binary_crossentropy', metrics=['accuracy'])"
      ]
    },
    {
      "cell_type": "code",
      "execution_count": null,
      "metadata": {
        "colab": {
          "base_uri": "https://localhost:8080/"
        },
        "id": "wk-RHvGR-gvJ",
        "outputId": "022dd0b5-cb55-4df8-8e50-70ccf6206f7e"
      },
      "outputs": [
        {
          "name": "stdout",
          "output_type": "stream",
          "text": [
            "Epoch 1/5\n",
            "76/76 [==============================] - 614s 8s/step - loss: 0.4874 - accuracy: 0.7915 - val_loss: 0.2898 - val_accuracy: 0.8953\n",
            "Epoch 2/5\n",
            "76/76 [==============================] - 311s 4s/step - loss: 0.2249 - accuracy: 0.9140 - val_loss: 0.1527 - val_accuracy: 0.9419\n",
            "Epoch 3/5\n",
            "76/76 [==============================] - 312s 4s/step - loss: 0.0893 - accuracy: 0.9701 - val_loss: 0.0244 - val_accuracy: 0.9950\n",
            "Epoch 4/5\n",
            "76/76 [==============================] - 313s 4s/step - loss: 0.0416 - accuracy: 0.9888 - val_loss: 0.0128 - val_accuracy: 1.0000\n",
            "Epoch 5/5\n",
            "76/76 [==============================] - 313s 4s/step - loss: 0.0162 - accuracy: 0.9967 - val_loss: 0.1014 - val_accuracy: 0.9651\n"
          ]
        }
      ],
      "source": [
        "history = model.fit(train_generator,validation_data=val_generator,epochs=5)"
      ]
    },
    {
      "cell_type": "code",
      "execution_count": null,
      "metadata": {
        "colab": {
          "background_save": true
        },
        "id": "JjyfBJ1r-oNy"
      },
      "outputs": [],
      "source": [
        "model.save(\"Model.h5\",\"label.txt\")"
      ]
    },
    {
      "cell_type": "code",
      "execution_count": null,
      "metadata": {
        "colab": {
          "base_uri": "https://localhost:8080/"
        },
        "id": "Z6xdzuQvGKen",
        "outputId": "09c27524-1fde-4c38-b505-26f87319ce20"
      },
      "outputs": [
        {
          "name": "stdout",
          "output_type": "stream",
          "text": [
            "1/1 [==============================] - 0s 113ms/step\n",
            "Prediction:Tumor present (Probability: 1.0 )\n"
          ]
        }
      ],
      "source": [
        "\n",
        "from keras.models import load_model  # TensorFlow is required for Keras to work\n",
        "from tensorflow.keras.preprocessing import image\n",
        "import numpy as np\n",
        "#load the model\n",
        "model = load_model('/content/Model.h5')\n",
        "#Load andd preprocessor\n",
        "test_image_path='/content/drive/MyDrive/dataset/Brain_Tumor_Detection/train/yes/y10.jpg'\n",
        "img=image.load_img(test_image_path,target_size=(224,224))\n",
        "img_array=image.img_to_array(img)\n",
        "img_array=np.expand_dims(img_array,axis=0)#Add batch dimension\n",
        "img_array/=255. #Normalize thepixel values\n",
        "\n",
        "#Make prediction\n",
        "prediction=model.predict(img_array)\n",
        "\n",
        "#print the prediction\n",
        "if prediction < 0.5:\n",
        "  print(\"Prediction:No tumor (Probability:\",prediction[0][0],\")\")\n",
        "else:\n",
        "  print(\"Prediction:Tumor present (Probability:\",prediction[0][0],\")\")"
      ]
    }
  ],
  "metadata": {
    "colab": {
      "provenance": []
    },
    "kernelspec": {
      "display_name": "Python 3",
      "name": "python3"
    },
    "language_info": {
      "name": "python"
    }
  },
  "nbformat": 4,
  "nbformat_minor": 0
}